{
 "cells": [
  {
   "cell_type": "code",
   "execution_count": null,
   "id": "0fa7df4f",
   "metadata": {},
   "outputs": [],
   "source": [
    "import pandas as pd\n",
    "import re"
   ]
  },
  {
   "cell_type": "code",
   "execution_count": null,
   "id": "85e4788e",
   "metadata": {},
   "outputs": [],
   "source": [
    "# Ler o arquivo Excel com a especificação da aba\n",
    "df = pd.read_excel('separacao.xlsx')\n",
    "\n",
    "# Criar uma lista para armazenar os dados expandidos\n",
    "dados_expandidos = []"
   ]
  },
  {
   "cell_type": "code",
   "execution_count": null,
   "id": "ff5eab14",
   "metadata": {},
   "outputs": [],
   "source": [
    "# Percorrer cada linha do DataFrame\n",
    "for _, row in df.iterrows():\n",
    "    # Obter os cursos da linha atual\n",
    "    cursos = row['Titulo do Curso']\n",
    "\n",
    "    # Verificar se existem cursos para a linha atual\n",
    "    if pd.notnull(cursos):\n",
    "        # Extrair os cursos da string usando expressão regular\n",
    "        cursos_lista = re.findall((r'\\d{2}\\.\\d{2}', cursos)\n",
    "\n",
    "        # Percorrer cada curso\n",
    "        for curso in cursos_lista:\n",
    "            # Criar uma cópia da linha atual\n",
    "            nova_linha = row.copy()\n",
    "\n",
    "            # Atribuir o curso atual na nova linha\n",
    "            nova_linha['cursos'] = curso\n",
    "\n",
    "            # Adicionar a nova linha à lista de dados expandidos\n",
    "            dados_expandidos.append(nova_linha)\n",
    "\n",
    "# Criar um novo DataFrame com os dados expandidos\n",
    "df_expandido = pd.DataFrame(dados_expandidos)"
   ]
  },
  {
   "cell_type": "code",
   "execution_count": null,
   "id": "72f328b0",
   "metadata": {},
   "outputs": [],
   "source": [
    "# Salvar o DataFrame expandido em um novo arquivo Excel\n",
    "df_expandido.to_excel('teste.xlsx', index=False)"
   ]
  }
 ],
 "metadata": {
  "kernelspec": {
   "display_name": "Python 3 (ipykernel)",
   "language": "python",
   "name": "python3"
  },
  "language_info": {
   "codemirror_mode": {
    "name": "ipython",
    "version": 3
   },
   "file_extension": ".py",
   "mimetype": "text/x-python",
   "name": "python",
   "nbconvert_exporter": "python",
   "pygments_lexer": "ipython3",
   "version": "3.10.9"
  }
 },
 "nbformat": 4,
 "nbformat_minor": 5
}
