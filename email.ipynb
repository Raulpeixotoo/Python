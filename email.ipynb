{
 "cells": [
  {
   "cell_type": "code",
   "execution_count": null,
   "id": "79cb4761",
   "metadata": {},
   "outputs": [],
   "source": [
    "import pandas as pd\n",
    "import win32com.client\n",
    "import os\n",
    "import re"
   ]
  },
  {
   "cell_type": "markdown",
   "id": "cd67a71f",
   "metadata": {},
   "source": [
    "## ↓↓↓↓ Codigo para encontrar os Index das suas caixas dentro do E-mail ↓↓↓↓"
   ]
  },
  {
   "cell_type": "code",
   "execution_count": null,
   "id": "0c49b888",
   "metadata": {},
   "outputs": [],
   "source": [
    "import win32com.client\n",
    "\n",
    "outlook = win32com.client.Dispatch(\"Outlook.Application\").GetNamespace(\"MAPI\")\n",
    "root_folder = outlook.Folders.Item(1)  # Acesso à pasta raiz\n",
    "\n",
    "def traverse_folders(folder, indent=0):\n",
    "    print(' ' * indent + folder.Name)\n",
    "    if folder.Folders:\n",
    "        for i, subfolder in enumerate(folder.Folders):\n",
    "            print(' ' * (indent + 2) + f\"Index: {i}, Name: {subfolder.Name}\")\n",
    "            traverse_folders(subfolder, indent + 4)\n",
    "\n",
    "traverse_folders(root_folder)\n",
    "\n"
   ]
  },
  {
   "cell_type": "markdown",
   "id": "41328573",
   "metadata": {},
   "source": [
    "## ↓↓↓↓ Codigo para extração do corpo dos e-mails para um .TXT ↓↓↓↓"
   ]
  },
  {
   "cell_type": "code",
   "execution_count": null,
   "id": "16c7bc18",
   "metadata": {},
   "outputs": [],
   "source": [
    "\n",
    "\n",
    "# Conexão com o Outlook\n",
    "outlook = win32com.client.Dispatch(\"Outlook.Application\").GetNamespace(\"MAPI\")\n",
    "root_folder = outlook.Folders.Item(1)  # Acesso à pasta raiz\n",
    "\n",
    "# Acessando a pasta PELO INDEX\n",
    "folder = root_folder.Folders[24]\n",
    "\n",
    "# Criando ou abrindo um arquivo de texto para salvar o código fonte dos e-mails\n",
    "output_file_path = \"output_emails.txt\"\n",
    "with open(output_file_path, \"w\") as output_file:\n",
    "    # Itera os e-mails na pasta \n",
    "    for message in folder.Items:\n",
    "        # Obter o corpo de texto do e-mail e remover o cabeçalho\n",
    "        email_content = message.Body\n",
    "\n",
    "        # Regexp para encontrar todos os links entre \"<>\" e ignorar links de imagens\n",
    "        links = re.findall(r'(?<=<)\\b(?!.*\\.jpg|.*\\.png)https?://\\S+?\\b(?=>)', email_content)\n",
    "\n",
    "        # Escrever os links no arquivo de saída\n",
    "        output_file.write(f\"Subject: {message.Subject}\\n\")\n",
    "        for link in links:\n",
    "            output_file.write(link + \"\\n\")\n",
    "        output_file.write(\"---------------------------------------------------\\n\")\n",
    "\n",
    "print(f\"Os links foram salvos em {os.path.abspath(output_file_path)}\")"
   ]
  },
  {
   "cell_type": "markdown",
   "id": "ef448ae2",
   "metadata": {},
   "source": [
    "## ↓↓↓↓ Converter o .TXT para uma planilha de excel ↓↓↓↓"
   ]
  },
  {
   "cell_type": "code",
   "execution_count": null,
   "id": "29059b26",
   "metadata": {},
   "outputs": [],
   "source": [
    "import pandas as pd\n",
    "\n",
    "# Lendo o arquivo de texto\n",
    "input_file_path = \"output_emails.txt\"\n",
    "output_excel_path = \"output_emails.xlsx\"\n",
    "\n",
    "data = []\n",
    "current_subject = None\n",
    "\n",
    "with open(input_file_path, \"r\") as input_file:\n",
    "    for line in input_file:\n",
    "        line = line.strip()\n",
    "        if line.startswith(\"Subject: \"):\n",
    "            current_subject = line.replace(\"Subject: \", \"\")\n",
    "        elif line.startswith(\"http\"):\n",
    "            data.append([current_subject, line])\n",
    "\n",
    "# Convertendo para DataFrame e salvando em um arquivo Excel\n",
    "df = pd.DataFrame(data, columns=[\"Subject\", \"Link\"])\n",
    "df.to_excel(output_excel_path, index=False)\n",
    "\n",
    "print(f\"Os dados foram salvos em {output_excel_path}\")\n"
   ]
  }
 ],
 "metadata": {
  "kernelspec": {
   "display_name": "Python 3 (ipykernel)",
   "language": "python",
   "name": "python3"
  },
  "language_info": {
   "codemirror_mode": {
    "name": "ipython",
    "version": 3
   },
   "file_extension": ".py",
   "mimetype": "text/x-python",
   "name": "python",
   "nbconvert_exporter": "python",
   "pygments_lexer": "ipython3",
   "version": "3.10.9"
  }
 },
 "nbformat": 4,
 "nbformat_minor": 5
}
