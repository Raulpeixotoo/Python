{
 "cells": [
  {
   "cell_type": "code",
   "execution_count": null,
   "id": "e5a4d531",
   "metadata": {},
   "outputs": [],
   "source": [
    "import pandas as pd\n",
    "from openpyxl import load_workbook"
   ]
  },
  {
   "cell_type": "code",
   "execution_count": null,
   "id": "8d06eb4c",
   "metadata": {},
   "outputs": [],
   "source": [
    "# Carregar o arquivo Excel\n",
    "excel_file_path = 'isa-teste.xlsx'\n",
    "sheet_name = 'aa'\n",
    "\n",
    "# Carregar os dados da planilha em um DataFrame do pandas\n",
    "df = pd.read_excel(excel_file_path, sheet_name=sheet_name)\n",
    "\n",
    "# Criar uma lista para armazenar as linhas duplicadas\n",
    "duplicated_rows = []\n",
    "\n",
    "# Iterar sobre cada linha do DataFrame\n",
    "for index, row in df.iterrows():\n",
    "    for _ in range(row['pessoas']):\n",
    "        duplicated_rows.append(row)\n",
    "\n",
    "# Criar um novo DataFrame com as linhas duplicadas\n",
    "duplicated_df = pd.DataFrame(duplicated_rows)\n",
    "\n",
    "# Carregar o arquivo Excel novamente usando openpyxl\n",
    "book = load_workbook(excel_file_path)\n",
    "writer = pd.ExcelWriter(excel_file_path, engine='openpyxl')\n",
    "writer.book = book\n",
    "\n",
    "# Adicionar o DataFrame duplicado em uma nova aba\n",
    "duplicated_df.to_excel(writer, sheet_name='duplicatas', index=False)\n",
    "\n",
    "# Salvar as alterações no arquivo Excel\n",
    "writer.save()\n",
    "writer.close()\n",
    "\n",
    "print(\"Linhas duplicadas e salvas com sucesso!\")"
   ]
  }
 ],
 "metadata": {
  "kernelspec": {
   "display_name": "Python 3 (ipykernel)",
   "language": "python",
   "name": "python3"
  },
  "language_info": {
   "codemirror_mode": {
    "name": "ipython",
    "version": 3
   },
   "file_extension": ".py",
   "mimetype": "text/x-python",
   "name": "python",
   "nbconvert_exporter": "python",
   "pygments_lexer": "ipython3",
   "version": "3.10.9"
  }
 },
 "nbformat": 4,
 "nbformat_minor": 5
}
