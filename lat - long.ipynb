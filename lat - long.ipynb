{
 "cells": [
  {
   "cell_type": "code",
   "execution_count": 1,
   "id": "b8cd0a69",
   "metadata": {},
   "outputs": [],
   "source": [
    "import pandas as pd\n",
    "from geopy.geocoders import Nominatim"
   ]
  },
  {
   "cell_type": "code",
   "execution_count": 5,
   "id": "0714180c",
   "metadata": {},
   "outputs": [],
   "source": [
    "def obter_coordenadas(endereco):\n",
    "    geolocator = Nominatim(user_agent=\"deep\")  \n",
    "    location = geolocator.geocode(endereco)\n",
    "    if location is not None:\n",
    "        latitude = location.latitude\n",
    "        longitude = location.longitude\n",
    "        return latitude, longitude\n",
    "    else:\n",
    "        return None\n",
    "    \n",
    "# Ler os endereços\n",
    "dados = pd.read_excel(\"endereco.xlsx\")\n",
    "\n",
    "# Obter os endereços\n",
    "enderecos = dados[\"Endereco\"].tolist()\n",
    "\n",
    "# Criar listas para armazenar as coordenadas\n",
    "latitudes = []\n",
    "longitudes = []\n",
    "\n",
    "for endereco in enderecos:\n",
    "    coordenadas = obter_coordenadas(endereco)\n",
    "    if coordenadas is not None:\n",
    "        latitude, longitude = coordenadas\n",
    "        latitudes.append(latitude)\n",
    "        longitudes.append(longitude)\n",
    "    else:\n",
    "        latitudes.append(None)\n",
    "        longitudes.append(None)\n",
    "\n",
    "# Adicionar as coordenadas como novas colunas\n",
    "dados[\"Latitude\"] = latitudes\n",
    "dados[\"Longitude\"] = longitudes\n",
    "\n"
   ]
  },
  {
   "cell_type": "code",
   "execution_count": 4,
   "id": "76e48665",
   "metadata": {},
   "outputs": [],
   "source": [
    "# Salvar\n",
    "dados.to_excel(\"endereco.xlsx\", index=False)\n"
   ]
  }
 ],
 "metadata": {
  "kernelspec": {
   "display_name": "Python 3 (ipykernel)",
   "language": "python",
   "name": "python3"
  },
  "language_info": {
   "codemirror_mode": {
    "name": "ipython",
    "version": 3
   },
   "file_extension": ".py",
   "mimetype": "text/x-python",
   "name": "python",
   "nbconvert_exporter": "python",
   "pygments_lexer": "ipython3",
   "version": "3.10.9"
  }
 },
 "nbformat": 4,
 "nbformat_minor": 5
}
