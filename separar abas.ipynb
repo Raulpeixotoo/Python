{
 "cells": [
  {
   "cell_type": "code",
   "execution_count": null,
   "id": "3f20ca38",
   "metadata": {},
   "outputs": [],
   "source": [
    "import pandas as pd\n",
    "from openpyxl import load_workbook"
   ]
  },
  {
   "cell_type": "code",
   "execution_count": null,
   "id": "8060223f",
   "metadata": {},
   "outputs": [],
   "source": [
    "# Nome do arquivo Excel\n",
    "nome_arquivo = 'teste código.xlsx'"
   ]
  },
  {
   "cell_type": "code",
   "execution_count": null,
   "id": "e5aa302e",
   "metadata": {},
   "outputs": [],
   "source": [
    "# Nome da coluna com os nomes\n",
    "nome_coluna = 'Status da visita'\n",
    "\n",
    "# Ler a planilha do Excel\n",
    "df = pd.read_excel(nome_arquivo)\n",
    "\n",
    "# Obter nomes únicos\n",
    "status = df[nome_coluna].unique()\n",
    "\n",
    "# Carregar a planilha existente\n",
    "book = load_workbook(nome_arquivo)\n",
    "writer = pd.ExcelWriter(nome_arquivo, engine='openpyxl') \n",
    "writer.book = book\n",
    "\n",
    "#Remover todas as abas existentes, exceto a primeira (caso utilize sempre a mesma planilha)\n",
    "#sheets = book.sheetnames[1:]\n",
    "#for sheet_name in sheets:\n",
    "#book.remove(book[sheet_name])\n",
    "\n",
    "# Salvar as abas separadas na mesma planilha\n",
    "for nome in status:\n",
    "    # Filtrar os dados pelo nome\n",
    "    dados_nome = df[df[nome_coluna] == nome]\n",
    "    \n",
    "    # Adicionar uma nova aba com o nome correspondente\n",
    "    dados_nome.to_excel(writer, sheet_name=nome, index=False)\n",
    "\n",
    "# Salvar as alterações no arquivo Excel\n",
    "writer.save()\n",
    "\n",
    "\n",
    "\n",
    "print('Feito!')"
   ]
  },
  {
   "cell_type": "code",
   "execution_count": null,
   "id": "162a097b",
   "metadata": {},
   "outputs": [],
   "source": [
    "#rodar caso queira separar\n",
    "import shutil\n",
    "\n",
    "# Criar uma cópia do arquivo original\n",
    "shutil.copy(arquivo_original, arquivo_destino)\n",
    "# Nome do arquivo Excel de destino (cópia)\n",
    "arquivo_destino = 'dups2.xlsx'"
   ]
  }
 ],
 "metadata": {
  "kernelspec": {
   "display_name": "Python 3 (ipykernel)",
   "language": "python",
   "name": "python3"
  },
  "language_info": {
   "codemirror_mode": {
    "name": "ipython",
    "version": 3
   },
   "file_extension": ".py",
   "mimetype": "text/x-python",
   "name": "python",
   "nbconvert_exporter": "python",
   "pygments_lexer": "ipython3",
   "version": "3.10.9"
  }
 },
 "nbformat": 4,
 "nbformat_minor": 5
}
