{
 "cells": [
  {
   "cell_type": "code",
   "execution_count": null,
   "id": "7650baa6",
   "metadata": {},
   "outputs": [],
   "source": [
    "# instalacao da biblioteca do pandas\n",
    "pip install pandas"
   ]
  },
  {
   "cell_type": "code",
   "execution_count": null,
   "id": "c0be05fb",
   "metadata": {},
   "outputs": [],
   "source": [
    "import pandas as pd\n",
    "\n",
    "# Abre o arquivo Excel para duplicar (trocar o nome do xlsx para o da sua planilha)\n",
    "df = pd.read_excel(\"nome_do_excel.xlsx\")\n",
    "\n",
    "# Duplica cada linha pela quantidade que precisa (range(3)acrescenta 3 linhas a mais)\n",
    "df_duplicated = df.copy()\n",
    "for i in range(3):\n",
    "    df_duplicated = df_duplicated.append(df.copy())\n",
    "\n",
    "# Salva o Excel (se o nome aqui for igual o de cima, sobrescreve o arquivo)\n",
    "df_duplicated.to_excel(\"nome_do_excel.xlsx\")\n"
   ]
  }
 ],
 "metadata": {
  "kernelspec": {
   "display_name": "Python 3 (ipykernel)",
   "language": "python",
   "name": "python3"
  },
  "language_info": {
   "codemirror_mode": {
    "name": "ipython",
    "version": 3
   },
   "file_extension": ".py",
   "mimetype": "text/x-python",
   "name": "python",
   "nbconvert_exporter": "python",
   "pygments_lexer": "ipython3",
   "version": "3.10.9"
  }
 },
 "nbformat": 4,
 "nbformat_minor": 5
}
