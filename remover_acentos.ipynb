{
 "cells": [
  {
   "cell_type": "code",
   "execution_count": 2,
   "id": "7b93ead9",
   "metadata": {},
   "outputs": [],
   "source": [
    "import pandas as pd\n",
    "from unidecode import unidecode"
   ]
  },
  {
   "cell_type": "code",
   "execution_count": null,
   "id": "26ade51f",
   "metadata": {},
   "outputs": [],
   "source": [
    "# remover acentos de uma planilha inteira\n",
    "def remove_acento(texto):\n",
    "    return unidecode(texto)\n",
    "\n",
    "def processar_planilha(nome_arquivo):\n",
    "    # Carrega a planilha\n",
    "    planilha = pd.read_excel(nome_arquivo)\n",
    "    \n",
    "    # Remove acentos e converte para minúsculas em todas as colunas\n",
    "    for coluna in planilha.columns:\n",
    "        planilha[coluna] = planilha[coluna].apply(lambda x: remove_acento(str(x)).lower())\n",
    "    \n",
    "    # Salva as alterações\n",
    "    planilha.to_excel(nome_arquivo, index=False)\n",
    "    \n",
    "nome_arquivo = 'acentos.xlsx'\n",
    "processar_planilha(nome_arquivo)"
   ]
  },
  {
   "cell_type": "code",
   "execution_count": 4,
   "id": "e250190f",
   "metadata": {},
   "outputs": [
    {
     "name": "stdout",
     "output_type": "stream",
     "text": [
      "Acentos removidos\n"
     ]
    }
   ],
   "source": [
    "# remover acentos de uma Coluna especifica\n",
    "\n",
    "#arquivo Excel\n",
    "file_path = 'acentos.xlsx' #nome da planilha\n",
    "sheet_name = 'Sheet1'#nome da aba\n",
    "column_name = 'Nome'#nome da Coluna\n",
    "\n",
    "# Carregar o arquivo Excel em um DataFrame do pandas\n",
    "df = pd.read_excel(file_path, sheet_name=sheet_name)\n",
    "\n",
    "# Função para remover acentos e caracteres especiais\n",
    "def remove_special_chars(text):\n",
    "    return unidecode(text)\n",
    "\n",
    "# funcao de remover acentos na coluna \n",
    "df[column_name] = df[column_name].apply(remove_special_chars)\n",
    "df[column_name] = df[column_name].apply(lambda x: remove_special_chars(str(x)).upper())\n",
    "\n",
    "\n",
    "# Salvar as alterações\n",
    "df.to_excel(file_path, index=False, sheet_name=sheet_name, engine='openpyxl')\n",
    "\n",
    "print(\"Acentos removidos\")"
   ]
  }
 ],
 "metadata": {
  "kernelspec": {
   "display_name": "Python 3 (ipykernel)",
   "language": "python",
   "name": "python3"
  },
  "language_info": {
   "codemirror_mode": {
    "name": "ipython",
    "version": 3
   },
   "file_extension": ".py",
   "mimetype": "text/x-python",
   "name": "python",
   "nbconvert_exporter": "python",
   "pygments_lexer": "ipython3",
   "version": "3.10.9"
  }
 },
 "nbformat": 4,
 "nbformat_minor": 5
}
