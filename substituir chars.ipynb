{
 "cells": [
  {
   "cell_type": "code",
   "execution_count": null,
   "metadata": {},
   "outputs": [],
   "source": [
    "import pandas as pd"
   ]
  },
  {
   "cell_type": "code",
   "execution_count": null,
   "metadata": {},
   "outputs": [],
   "source": [
    "# Carregue a planilha em um DataFrame do pandas\n",
    "caminho_arquivo = 'caminho_do_arquivo/nome_do_arquivo.xlsx'  # Substitua pelo caminho do seu arquivo\n",
    "df = pd.read_excel(caminho_arquivo)\n",
    "\n",
    "# Defina os caracteres que você deseja remover\n",
    "caracteres_a_remover = ['*', '#', '@']  # Substitua pelos caracteres que deseja remover\n",
    "\n",
    "# Função para remover os caracteres\n",
    "def remover_caracteres(texto, caracteres):\n",
    "    for char in caracteres:\n",
    "        texto = texto.replace(char, '')\n",
    "    return texto\n",
    "\n",
    "# Aplique a função para remover os caracteres na coluna desejada\n",
    "nome_da_coluna = 'Nome'  # Substitua pelo nome da coluna que deseja alterar\n",
    "df[nome_da_coluna] = df[nome_da_coluna].apply(lambda x: remover_caracteres(x, caracteres_a_remover))\n",
    "\n",
    "# Salve o DataFrame de volta em um novo arquivo (opcional)\n",
    "novo_caminho_arquivo = 'caminho_do_arquivo/nome_do_arquivo_limpo.xlsx'\n",
    "df.to_excel(novo_caminho_arquivo, index=False)\n"
   ]
  },
  {
   "cell_type": "code",
   "execution_count": null,
   "metadata": {},
   "outputs": [],
   "source": [
    "\n"
   ]
  }
 ],
 "metadata": {
  "language_info": {
   "name": "python"
  },
  "orig_nbformat": 4
 },
 "nbformat": 4,
 "nbformat_minor": 2
}
