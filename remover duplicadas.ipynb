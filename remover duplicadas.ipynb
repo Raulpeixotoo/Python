{
 "cells": [
  {
   "cell_type": "code",
   "execution_count": 1,
   "id": "1e547405",
   "metadata": {},
   "outputs": [
    {
     "name": "stdout",
     "output_type": "stream",
     "text": [
      "As linhas duplicadas em 'carol.xlsx' foram removidas, exceto aquelas com ' - ' na coluna 'Nome Completo', e o resultado foi salvo em 'arquivo_sem_duplicatas.xlsx'.\n"
     ]
    }
   ],
   "source": [
    "import pandas as pd\n",
    "\n",
    "# Carregue o arquivo Excel\n",
    "file_path = 'carol.xlsx'\n",
    "df = pd.read_excel(file_path)\n",
    "\n",
    "# Remova linhas totalmente duplicadas, mas preserve aquelas com \" - \" na coluna \"Nome Completo\"\n",
    "df = df[df['Nome Completo'] != ' - '].drop_duplicates()\n",
    "\n",
    "# Salve o DataFrame resultante de volta para um arquivo Excel\n",
    "output_file_path = 'arquivo_sem_duplicatas.xlsx'\n",
    "df.to_excel(output_file_path, index=False)\n",
    "\n",
    "print(f\"As linhas duplicadas em '{file_path}' foram removidas, exceto aquelas com ' - ' na coluna 'Nome Completo', e o resultado foi salvo em '{output_file_path}'.\")\n"
   ]
  }
 ],
 "metadata": {
  "kernelspec": {
   "display_name": "Python 3 (ipykernel)",
   "language": "python",
   "name": "python3"
  },
  "language_info": {
   "codemirror_mode": {
    "name": "ipython",
    "version": 3
   },
   "file_extension": ".py",
   "mimetype": "text/x-python",
   "name": "python",
   "nbconvert_exporter": "python",
   "pygments_lexer": "ipython3",
   "version": "3.10.9"
  }
 },
 "nbformat": 4,
 "nbformat_minor": 5
}
