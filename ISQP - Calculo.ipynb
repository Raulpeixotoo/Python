{
 "cells": [
  {
   "cell_type": "code",
   "execution_count": 1,
   "id": "b295c422",
   "metadata": {},
   "outputs": [],
   "source": [
    "import pandas as pd"
   ]
  },
  {
   "cell_type": "code",
   "execution_count": 3,
   "id": "69c37778",
   "metadata": {
    "scrolled": false
   },
   "outputs": [
    {
     "name": "stdout",
     "output_type": "stream",
     "text": [
      "Cálculos realizados e salvos na nova aba 'Resultado'.\n"
     ]
    }
   ],
   "source": [
    "\n",
    "# Carregar a planilha do Excel\n",
    "caminho_arquivo_excel = 'PI.xlsx' \n",
    "nome_aba = 'Consolidado'  \n",
    "\n",
    "df = pd.read_excel(caminho_arquivo_excel, sheet_name=nome_aba)\n",
    "\n",
    "# Realizar os cálculos\n",
    "def calcular_media_satisfacao(notas):\n",
    "    notas_7 = [nota for nota in notas if nota >= 7]\n",
    "    return len(notas_7) / len(notas) if len(notas) > 0 else 0\n",
    "\n",
    "colunas_a_calcular = ['FE1', 'FE2', 'FE3','IC1','IC2','IC3','IC4','CL1','CL2','CL3','CL4','CL5','AT1','AT2','AT3','AT4','AT5','AT6','AT7','AT8','AT9','IM1','IM2','IM3','IM4','IM6','IM7','IM8']\n",
    "\n",
    "\n",
    "df_resultado_unidades = df.groupby('Município').agg({col: calcular_media_satisfacao for col in colunas_a_calcular}).reset_index()\n",
    "df_resultado_regionais = df.groupby('Regional').agg({col: calcular_media_satisfacao for col in colunas_a_calcular}).reset_index()\n",
    "df_resultado_personas = df.groupby('PERSONAS').agg({col: calcular_media_satisfacao for col in colunas_a_calcular}).reset_index()\n",
    "\n",
    "# Calcular as médias de satisfação consolidadas para as colunas a serem calculadas\n",
    "media_satisfacao_consolidada = df[colunas_a_calcular].apply(lambda x: x[x >= 7].count() / x.count()).tolist()\n",
    "\n",
    "# Criar um DataFrame para o consolidado dos municípios\n",
    "df_consolidado_municipios = pd.DataFrame({'Município': ['Consolidado'], 'FE1': [media_satisfacao_consolidada[0]], 'FE2': [media_satisfacao_consolidada[1]], 'FE3': [media_satisfacao_consolidada[2]],'IC1': [media_satisfacao_consolidada[3]],'IC2': [media_satisfacao_consolidada[4]],'IC3': [media_satisfacao_consolidada[5]],'IC4': [media_satisfacao_consolidada[6]],'CL1': [media_satisfacao_consolidada[7]],'CL2': [media_satisfacao_consolidada[8]],'CL3': [media_satisfacao_consolidada[9]],'CL4': [media_satisfacao_consolidada[10]],'CL5': [media_satisfacao_consolidada[11]],'AT1': [media_satisfacao_consolidada[12]],'AT2': [media_satisfacao_consolidada[13]],'AT3': [media_satisfacao_consolidada[14]],'AT4': [media_satisfacao_consolidada[15]],'AT5': [media_satisfacao_consolidada[16]],'AT6': [media_satisfacao_consolidada[17]],'AT7': [media_satisfacao_consolidada[18]],'AT8': [media_satisfacao_consolidada[19]],'AT9': [media_satisfacao_consolidada[20]],'IM1': [media_satisfacao_consolidada[21]],'IM2': [media_satisfacao_consolidada[22]],'IM3': [media_satisfacao_consolidada[23]],'IM4': [media_satisfacao_consolidada[24]],'IM6': [media_satisfacao_consolidada[25]],'IM7': [media_satisfacao_consolidada[26]],'IM8': [media_satisfacao_consolidada[27]]})\n",
    "\n",
    "\n",
    "\n",
    "# Salvar os resultados em abas separadas\n",
    "nome_aba_resultado = 'Resultado'  # Insira o nome da nova aba para os resultados\n",
    "with pd.ExcelWriter(caminho_arquivo_excel, engine='openpyxl', mode='a') as writer:\n",
    "    df_resultado_unidades.to_excel(writer, sheet_name=nome_aba_resultado + '_Unidades', index=False)\n",
    "    df_resultado_regionais.to_excel(writer, sheet_name=nome_aba_resultado + '_Regionais', index=False)\n",
    "    df_resultado_personas.to_excel(writer, sheet_name=nome_aba_resultado + '_Personas', index=False)\n",
    "    \n",
    "    # Adicionar o consolidado dos municípios na aba do município\n",
    "    df_consolidado_municipios.to_excel(writer, sheet_name=nome_aba_resultado + '_Municipios', index=False)\n",
    "\n",
    "\n",
    "print(\"Cálculos realizados e salvos na nova aba 'Resultado'.\")\n"
   ]
  }
 ],
 "metadata": {
  "kernelspec": {
   "display_name": "Python 3 (ipykernel)",
   "language": "python",
   "name": "python3"
  },
  "language_info": {
   "codemirror_mode": {
    "name": "ipython",
    "version": 3
   },
   "file_extension": ".py",
   "mimetype": "text/x-python",
   "name": "python",
   "nbconvert_exporter": "python",
   "pygments_lexer": "ipython3",
   "version": "3.10.9"
  }
 },
 "nbformat": 4,
 "nbformat_minor": 5
}
